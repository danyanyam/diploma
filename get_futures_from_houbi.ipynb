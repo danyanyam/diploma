{
 "cells": [
  {
   "cell_type": "markdown",
   "metadata": {},
   "source": [
    "### Введение\n",
    "\n",
    "Биржа huobi является 5-ой в мире по размеру капитализации. На данный момент там торгуются контракты следующих типов:\n",
    "\n",
    "    1. Недельные\n",
    "    2. Двух-недельные\n",
    "    3. Квартальные\n",
    "    4. Двух-квартальные\n",
    "    \n",
    "Они торгуются каждый день. Как только контракт прекращает своё существование, выпускается новый с такой же конфигурацией. Подробнее можно почитать тут: https://huobiglobal.zendesk.com/hc/en-us/articles/360000143621-Trading-Rules-of-Futures\n",
    "\n",
    "Скрипт ниже скачивает данные с биржи и сохраняет их в excel по папкам, в зависимости от символа."
   ]
  },
  {
   "cell_type": "code",
   "execution_count": 1,
   "metadata": {},
   "outputs": [],
   "source": [
    "import requests\n",
    "import datetime as dt\n",
    "import pandas as pd\n",
    "from copy import deepcopy\n",
    "import time\n",
    "import os"
   ]
  },
  {
   "cell_type": "code",
   "execution_count": 2,
   "metadata": {},
   "outputs": [],
   "source": [
    "config = {\n",
    "    'week': '_CW',\n",
    "    '2week': '_NW',\n",
    "    'quarter': \"_CQ\",\n",
    "    '2quarter': \"_NQ\"\n",
    "}"
   ]
  },
  {
   "cell_type": "markdown",
   "metadata": {},
   "source": [
    "Получаем список всех контрактов с биржи, торгуемых на данный момент"
   ]
  },
  {
   "cell_type": "code",
   "execution_count": 3,
   "metadata": {},
   "outputs": [],
   "source": [
    "contract_info = requests.get(\"https://api.hbdm.com/api/v1/contract_contract_info\")\n",
    "\n",
    "# Просто приводим в порядок даты\n",
    "all_contracts = pd.DataFrame(contract_info.json()['data'])\n",
    "all_contracts['delivery_time'] = all_contracts['delivery_time'].apply(lambda x: dt.datetime.fromtimestamp(int(x) / 1000))\n",
    "all_contracts['settlement_time'] = all_contracts['settlement_time'].apply(lambda x: dt.datetime.fromtimestamp(int(x) / 1000))\n",
    "all_contracts['create_date'] = pd.to_datetime(all_contracts['create_date'], format='%Y%m%d')\n",
    "\n",
    "# Все символы\n",
    "symbs = all_contracts['symbol'].unique()"
   ]
  },
  {
   "cell_type": "code",
   "execution_count": 4,
   "metadata": {},
   "outputs": [
    {
     "name": "stdout",
     "output_type": "stream",
     "text": [
      "<Response [200]>\n",
      "<Response [200]>\n",
      "<Response [200]>\n",
      "<Response [200]>\n",
      "<Response [200]>\n",
      "<Response [200]>\n",
      "<Response [200]>\n",
      "<Response [200]>\n",
      "<Response [200]>\n",
      "<Response [200]>\n",
      "<Response [200]>\n",
      "<Response [200]>\n",
      "<Response [200]>\n",
      "<Response [200]>\n",
      "<Response [200]>\n",
      "<Response [200]>\n",
      "<Response [200]>\n",
      "<Response [200]>\n",
      "<Response [200]>\n",
      "<Response [200]>\n",
      "<Response [200]>\n",
      "<Response [200]>\n",
      "<Response [200]>\n",
      "<Response [200]>\n",
      "<Response [200]>\n",
      "<Response [200]>\n",
      "<Response [200]>\n",
      "<Response [200]>\n",
      "<Response [200]>\n",
      "<Response [200]>\n",
      "<Response [200]>\n",
      "<Response [200]>\n",
      "<Response [200]>\n",
      "<Response [200]>\n",
      "<Response [200]>\n",
      "<Response [200]>\n",
      "<Response [200]>\n",
      "<Response [200]>\n",
      "<Response [200]>\n",
      "<Response [200]>\n",
      "<Response [200]>\n",
      "<Response [200]>\n",
      "<Response [200]>\n",
      "<Response [200]>\n",
      "<Response [200]>\n",
      "<Response [200]>\n",
      "<Response [200]>\n",
      "<Response [200]>\n",
      "<Response [200]>\n",
      "<Response [200]>\n",
      "<Response [200]>\n",
      "<Response [200]>\n"
     ]
    }
   ],
   "source": [
    "# Скрипт для раскидывания по папкам стоимостей контрактов\n",
    "for symbol in symbs:\n",
    "    symbol_data = deepcopy(config)\n",
    "    os.makedirs(f'data/{symbol}')\n",
    "    \n",
    "    for contract_length, code in config.items():\n",
    "        specific_contract = requests.get(f\"https://api.hbdm.com/market/history/kline?period=1day&size=2000&symbol={symbol}{code}\")\n",
    "        print(specific_contract)\n",
    "        \n",
    "        if specific_contract.json()['data']:\n",
    "            data = pd.DataFrame(specific_contract.json()['data'])\n",
    "            data['id'] = data['id'].apply(lambda x: dt.datetime.fromtimestamp(x))\n",
    "            data.to_excel(f'data/{symbol}/{symbol}_{contract_length}.xlsx')\n",
    "        else:\n",
    "            print(specific_contract.text)\n",
    "        \n",
    "        time.sleep(1)\n",
    "        \n",
    "\n",
    "        \n",
    "        "
   ]
  },
  {
   "cell_type": "code",
   "execution_count": null,
   "metadata": {},
   "outputs": [],
   "source": []
  }
 ],
 "metadata": {
  "kernelspec": {
   "display_name": "Python 3",
   "language": "python",
   "name": "python3"
  },
  "language_info": {
   "codemirror_mode": {
    "name": "ipython",
    "version": 3
   },
   "file_extension": ".py",
   "mimetype": "text/x-python",
   "name": "python",
   "nbconvert_exporter": "python",
   "pygments_lexer": "ipython3",
   "version": "3.7.3"
  }
 },
 "nbformat": 4,
 "nbformat_minor": 4
}
